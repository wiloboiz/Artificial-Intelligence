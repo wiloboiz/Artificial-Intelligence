{
  "nbformat": 4,
  "nbformat_minor": 0,
  "metadata": {
    "colab": {
      "provenance": [],
      "authorship_tag": "ABX9TyMVsx3Ypuz37P/+mjEEEaX3",
      "include_colab_link": true
    },
    "kernelspec": {
      "name": "python3",
      "display_name": "Python 3"
    },
    "language_info": {
      "name": "python"
    }
  },
  "cells": [
    {
      "cell_type": "markdown",
      "metadata": {
        "id": "view-in-github",
        "colab_type": "text"
      },
      "source": [
        "<a href=\"https://colab.research.google.com/github/wiloboiz/Artificial-Intelligence/blob/main/M_Fakhri_Wilova_2217051104_A_UAP_Responsi_AI.ipynb\" target=\"_parent\"><img src=\"https://colab.research.google.com/assets/colab-badge.svg\" alt=\"Open In Colab\"/></a>"
      ]
    },
    {
      "cell_type": "markdown",
      "source": [
        "#**Tema 2 (Menentukan Pemain Bola Terbaik)**\n",
        "###Anda adalah seorang pelatih sebuah klub sepak bola dan sedang menentukan pemain terbaik di klub untuk mengikuti pertandingan selanjutnya. Menggunakan metode AHP, bagaimana anda akan menentukan pemain terbaik? Gunakan kriteria dan pemain yang ingin anda nilai."
      ],
      "metadata": {
        "id": "OU6wCvPXjXt0"
      }
    },
    {
      "cell_type": "code",
      "execution_count": 24,
      "metadata": {
        "colab": {
          "base_uri": "https://localhost:8080/"
        },
        "id": "NF8F3wlP7syO",
        "outputId": "91fcb937-bc1e-4738-999a-8ee3ae76fdeb"
      },
      "outputs": [
        {
          "output_type": "stream",
          "name": "stdout",
          "text": [
            "Requirement already satisfied: numpy in /usr/local/lib/python3.10/dist-packages (1.25.2)\n",
            "Requirement already satisfied: scipy in /usr/local/lib/python3.10/dist-packages (1.11.4)\n"
          ]
        }
      ],
      "source": [
        "!pip install numpy scipy"
      ]
    },
    {
      "cell_type": "code",
      "source": [
        "import numpy as np\n",
        "from scipy.linalg import eig"
      ],
      "metadata": {
        "id": "JOv7eRjk8Spw"
      },
      "execution_count": 25,
      "outputs": []
    },
    {
      "cell_type": "code",
      "source": [
        "kriteria = [\"Skill Teknikal\", \"Kondisi Fisik\", \"Pemahaman Taktik\", \"Mentalitas\"]\n",
        "alternatif = [\"Pemain A\", \"Pemain B\", \"Pemain C\", \"Pemain D\"]"
      ],
      "metadata": {
        "id": "dezNDnQB8SnZ"
      },
      "execution_count": 26,
      "outputs": []
    },
    {
      "cell_type": "code",
      "source": [
        "matriks_kriteria = np.array([\n",
        "    [1, 3, 5, 7],\n",
        "    [1/3, 1, 3, 5],\n",
        "    [1/5, 1/3, 1, 3],\n",
        "    [1/7, 1/5, 1/3, 1]\n",
        "])"
      ],
      "metadata": {
        "id": "ztkpVJDl8Sk-"
      },
      "execution_count": 27,
      "outputs": []
    },
    {
      "cell_type": "code",
      "source": [
        "eigvals, eigvecs = eig(matriks_kriteria)\n",
        "max_eigval = np.max(eigvals).real\n",
        "max_eigvecs = eigvecs[:, np.argmax(eigvals)].real\n",
        "bobot = max_eigvecs / np.sum(eigvecs)\n",
        "\n",
        "print(f\"Bobot untuk kriteria : \", bobot)"
      ],
      "metadata": {
        "colab": {
          "base_uri": "https://localhost:8080/"
        },
        "id": "AifzO_mvCK0x",
        "outputId": "ed3ce80a-f6f6-479b-e821-d8bcaeb5b6d9"
      },
      "execution_count": 28,
      "outputs": [
        {
          "output_type": "stream",
          "name": "stdout",
          "text": [
            "Bobot untuk kriteria :  [0.25269588+0.j 0.11726744+0.j 0.05255286+0.j 0.024726  +0.j]\n"
          ]
        }
      ]
    },
    {
      "cell_type": "code",
      "source": [
        "matriks_alternatif = {\n",
        "    \"Skill Teknikal\" : np.array ([\n",
        "        [1, 1/2, 4, 3],\n",
        "        [2, 1, 5, 4],\n",
        "        [1/4, 1/5, 1, 1/3],\n",
        "        [1/3, 1/4, 3, 1]\n",
        "    ]),\n",
        "\n",
        "    \"Kondisi Fisik\" : np.array ([\n",
        "        [1, 3, 1/2, 5],\n",
        "        [1/3, 1, 1/5, 3],\n",
        "        [2, 5, 1, 4],\n",
        "        [1/5, 1/3, 1/4, 1]\n",
        "    ]),\n",
        "\n",
        "    \"Pemahaman Taktik\" : np.array ([\n",
        "        [1, 4, 3, 2],\n",
        "        [1/4, 1, 1/2, 1/3],\n",
        "        [1/3, 2, 1, 1/2],\n",
        "        [1/2, 3, 2, 1]\n",
        "    ]),\n",
        "\n",
        "    \"Mentalitas\" : np.array ([\n",
        "        [1, 5, 1/3, 2],\n",
        "        [1/5, 1, 1/7, 1/3],\n",
        "        [3, 7, 1, 4],\n",
        "        [1/2, 3, 1/4, 1]\n",
        "    ])\n",
        "}"
      ],
      "metadata": {
        "id": "S3ZitSgN8SiX"
      },
      "execution_count": 29,
      "outputs": []
    },
    {
      "cell_type": "code",
      "source": [
        "bobot_alternatif = {}\n",
        "for kriteria, matriks in matriks_alternatif.items():\n",
        "    eigvals, eigvecs = eig(matriks)\n",
        "    max_eigval = np.max(eigvals).real\n",
        "    max_eigvecs = eigvecs[:, np.argmax(eigvals)].real\n",
        "    bobot = max_eigvecs / np.sum(eigvecs)\n",
        "    bobot_alternatif[kriteria] = max_eigvecs\n",
        "\n",
        "print(f\"Bobot untuk alternatif berdasarkan {kriteria} : {bobot}\")"
      ],
      "metadata": {
        "colab": {
          "base_uri": "https://localhost:8080/"
        },
        "id": "qAUw0WCP8Sfp",
        "outputId": "15ef5da8-2f19-4441-c2d3-715214cbe24f"
      },
      "execution_count": 30,
      "outputs": [
        {
          "output_type": "stream",
          "name": "stdout",
          "text": [
            "Bobot untuk alternatif berdasarkan Mentalitas : [0.11875521+0.j 0.0276577 +0.j 0.26829521+0.j 0.06827441+0.j]\n"
          ]
        }
      ]
    },
    {
      "cell_type": "code",
      "source": [
        "skor_akhir = np.zeros(len(alternatif))\n",
        "for i, kriteria in enumerate(kriteria) :\n",
        "  if kriteria in bobot_alternatif :\n",
        "    skor_akhir += bobot[i] * bobot_alternatif[kriteria];\n",
        "  else :\n",
        "    pass\n",
        "\n",
        "print(\"Skor akhir untuk alternatif : \", skor_akhir)"
      ],
      "metadata": {
        "colab": {
          "base_uri": "https://localhost:8080/"
        },
        "id": "LHa7wU4G8SYc",
        "outputId": "3b2b5c77-668b-4306-f76f-a1b30125e8ec"
      },
      "execution_count": 31,
      "outputs": [
        {
          "output_type": "stream",
          "name": "stdout",
          "text": [
            "Skor akhir untuk alternatif :  [0. 0. 0. 0.]\n"
          ]
        }
      ]
    },
    {
      "cell_type": "code",
      "source": [
        "indeks_pemain_terbaik = np.argmax(skor_akhir)\n",
        "print(\"Pemain terbaik : \", alternatif[indeks_pemain_terbaik])"
      ],
      "metadata": {
        "colab": {
          "base_uri": "https://localhost:8080/"
        },
        "id": "i5F8rW-uERNx",
        "outputId": "a720c7f4-d5c3-4fc6-c885-53126621e6e5"
      },
      "execution_count": 32,
      "outputs": [
        {
          "output_type": "stream",
          "name": "stdout",
          "text": [
            "Pemain terbaik :  Pemain A\n"
          ]
        }
      ]
    },
    {
      "cell_type": "markdown",
      "source": [
        "#**Kesimpulan**\n",
        "\n",
        "### Kesimpulan Singkat\n",
        "\n",
        "Berdasarkan metode Analytic Hierarchy Process (AHP) untuk menentukan pemain sepak bola terbaik berdasarkan empat kriteria : Skill Teknikal, Kondisi Fisik, Pemahaman Taktik, dan Mentalitas. Langkah-langkahnya meliputi :\n",
        "\n",
        "1. Menentukan kriteria dan alternatif pemain.\n",
        "2. Membangun matriks perbandingan berpasangan untuk kriteria.\n",
        "3. Menghitung bobot kriteria menggunakan eigenvector.\n",
        "4. Membangun matriks perbandingan berpasangan untuk pemain berdasarkan setiap kriteria.\n",
        "5. Menghitung bobot pemain untuk setiap kriteria.\n",
        "6. Menghitung skor akhir setiap pemain dengan mengalikan bobot kriteria dan bobot pemain.\n",
        "7. Menentukan pemain dengan skor akhir tertinggi sebagai pemain terbaik.\n",
        "\n",
        "Metode AHP membantu membuat keputusan yang objektif dan terstruktur dengan mempertimbangkan berbagai aspek penilaian secara sistematis."
      ],
      "metadata": {
        "id": "i7Pm--svj4mY"
      }
    }
  ]
}